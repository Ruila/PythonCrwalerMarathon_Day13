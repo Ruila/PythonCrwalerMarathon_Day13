{
 "cells": [
  {
   "cell_type": "markdown",
   "metadata": {},
   "source": [
    "# PTT 網路爬蟲實作練習\n",
    "\n",
    "\n",
    "* 能夠利用 Request + BeatifulSour 撰寫爬蟲，並存放到合適的資料結構\n"
   ]
  },
  {
   "cell_type": "markdown",
   "metadata": {},
   "source": [
    "## 作業目標\n",
    "\n",
    "根據範例 ，完成以下問題：\n",
    "\n",
    "* ① 印出最新文章的「作者」「標題」「時間」\n",
    "* ② 印出第一頁所有文章的「作者」「標題」「時間」\n"
   ]
  },
  {
   "cell_type": "markdown",
   "metadata": {},
   "source": [
    "### ① 印出最新文章的「作者」「標題」「時間」"
   ]
  },
  {
   "cell_type": "code",
   "execution_count": 67,
   "metadata": {},
   "outputs": [
    {
     "name": "stdout",
     "output_type": "stream",
     "text": [
      "Mon Dec 28 08:33:23 2020 \n",
      "\n",
      "Mon Dec 28 08:40:54 2020 \n",
      "\n",
      "Mon Dec 28 08:53:36 2020 \n",
      "\n",
      "Mon Dec 28 09:16:07 2020 \n",
      "\n",
      "Mon Dec 28 09:17:25 2020 \n",
      "\n",
      "Mon Dec 28 09:26:06 2020 \n",
      "\n",
      "Mon Dec 28 09:27:46 2020 \n",
      "\n",
      "Mon Dec 28 10:25:58 2020 \n",
      "\n",
      "Mon Dec 28 10:39:17 2020 \n",
      "\n",
      "Fri Nov 27 00:02:24 2020 \n",
      "\n",
      "Mon Dec 28 08:31:39 2020 \n",
      "\n"
     ]
    },
    {
     "data": {
      "text/plain": [
       "{'標題': '[標的] 新產 2850',\n",
       " '作者': 'fengliyoung (feng)',\n",
       " '時間': 'Mon Dec 28 10:39:17 2020'}"
      ]
     },
     "execution_count": 67,
     "metadata": {},
     "output_type": "execute_result"
    }
   ],
   "source": [
    "import requests\n",
    "import datetime\n",
    "from bs4 import BeautifulSoup\n",
    "\n",
    "url = 'https://www.ptt.cc/bbs/Stock/index.html'\n",
    "r = requests.get(url)\n",
    "\n",
    "soup = BeautifulSoup(r.text, \"html5lib\")\n",
    "posts = []\n",
    "\n",
    "for d in soup.find_all(class_=\"title\"):\n",
    "    try:\n",
    "        post = {}\n",
    "        post['標題'] = d.text.replace('\\t', '').replace('\\n', '')\n",
    "        \n",
    "        r = BeautifulSoup(requests.get('https://www.ptt.cc'+d.find('a')['href']).text, \"html5lib\")\n",
    "        post['作者'] = r.find(class_='article-meta-value').text\n",
    "        post['時間'] = r.find_all(class_='article-meta-value')[-1].text\n",
    "#         post['時間'] = datetime.datetime.strptime(post['時間'], \"%a %b %d %H:%M:%S %Y\")\n",
    "        print(r.find_all(class_='article-meta-value')[-1].text, '\\n')\n",
    "        posts.append(post)\n",
    "    except:\n",
    "        continue\n",
    "        \n",
    "posts = sorted(posts, key= lambda x: x['時間'])\n",
    "# 補充：List of Dict 的排序方法\n",
    "# https://stackoverflow.com/questions/72899/how-do-i-sort-a-list-of-dictionaries-by-a-value-of-the-dictionary\n",
    "posts[-1]"
   ]
  },
  {
   "cell_type": "markdown",
   "metadata": {},
   "source": [
    "### ② 印出第一頁所有文章的「作者」「標題」「時間」"
   ]
  },
  {
   "cell_type": "code",
   "execution_count": 41,
   "metadata": {},
   "outputs": [
    {
     "name": "stdout",
     "output_type": "stream",
     "text": [
      "標題：  [新聞] Apple Car炒過頭　郭明錤：別在這時買概\n",
      "作者：  okbom\n",
      "時間：  12/28\n",
      "標題：  [新聞] 九暘「打不贏就加入」　併入聯發科寬頻通\n",
      "作者：  if2\n",
      "時間：  12/28\n",
      "標題：  [請益] 帝寶加入鴻海聯盟\n",
      "作者：  cococat1028\n",
      "時間：  12/28\n",
      "標題：  Re: [新聞] 長榮、陽明目標價 投顧上調\n",
      "作者：  XoPXoP\n",
      "時間：  12/28\n",
      "標題：  Re: [標的] 遠東新 1402 多\n",
      "作者：  book1999\n",
      "時間：  12/28\n",
      "標題：  [標的] 長榮（2603）漲停收到打收到 多\n",
      "作者：  onollll\n",
      "時間：  12/28\n",
      "標題：  4-2-6 (已被yoche2000刪除) <ben28>\n",
      "作者：  -\n",
      "時間：  12/28\n",
      "標題：  [新聞] 佳凌車用鏡頭接單題材熱外資追 周漲33%\n",
      "作者：  dash0804\n",
      "時間：  12/28\n",
      "標題：  4-2-6 (已被yoche2000刪除) <CTC0115>\n",
      "作者：  -\n",
      "時間：  12/28\n",
      "標題：  4-1 (已被yoche2000刪除) <sb5471>\n",
      "作者：  -\n",
      "時間：  12/28\n",
      "標題：  Re: [標的] 華泰 2329 長多\n",
      "作者：  mopackm123\n",
      "時間：  12/28\n",
      "標題：  (本文已被刪除) [okbom]\n",
      "作者：  -\n",
      "時間：  12/28\n",
      "標題：  [標的] 新產 2850\n",
      "作者：  fengliyoung\n",
      "時間：  12/28\n",
      "標題：  (本文已被刪除) [colora]\n",
      "作者：  -\n",
      "時間：  12/28\n",
      "標題：  [活動] 十二月徵文 那些遺留在2020的黑歷史\n",
      "作者：  yoche2000\n",
      "時間：  11/27\n",
      "標題：  [公告] Stock 股票板板規 V3 (檢舉洽 yoche2000)\n",
      "作者：  yoche2000\n",
      "時間：  11/20\n",
      "標題：  [閒聊] 2020/12/28 盤中閒聊\n",
      "作者：  justforsing\n",
      "時間：  12/28\n"
     ]
    }
   ],
   "source": [
    "for d in soup.find_all(class_=\"r-ent\"):\n",
    "    print('標題： ', d.find(class_='title').text.replace('\\n', '').replace('\\t', ''))\n",
    "    print('作者： ', d.find(class_='author').text.replace('\\t', '').replace('\\n', ''))\n",
    "    print('時間： ', d.find(class_='date').text.replace('\\t', '').replace('\\n', ''))"
   ]
  },
  {
   "cell_type": "markdown",
   "metadata": {},
   "source": [
    "### ③ 試著爬爬看其他版的文章"
   ]
  },
  {
   "cell_type": "code",
   "execution_count": 65,
   "metadata": {},
   "outputs": [
    {
     "data": {
      "text/plain": [
       "{'標題': '[新聞] 農委會：加強稽查台灣豬標章 不實開罰最',\n",
       " '作者': 'starken (再次驚蟄)',\n",
       " '時間': datetime.datetime(2020, 12, 28, 11, 14, 14)}"
      ]
     },
     "execution_count": 65,
     "metadata": {},
     "output_type": "execute_result"
    }
   ],
   "source": [
    "import datetime\n",
    "url2 = 'https://www.ptt.cc/bbs/Gossiping/index.html'\n",
    "r = requests.get(url2, cookies={'over18': '1'})\n",
    "\n",
    "soup = BeautifulSoup(r.text, \"html5lib\")\n",
    "\n",
    "posts1 = []\n",
    "\n",
    "for d in soup.find_all(class_=\"title\"):\n",
    "    try:\n",
    "        post1 = {}\n",
    "        post1['標題'] = d.text.replace('\\t', '').replace('\\n', '')\n",
    "        \n",
    "        r = BeautifulSoup(requests.get('https://www.ptt.cc'+d.find('a')['href'], cookies={'over18': '1'}).text, \"html5lib\")\n",
    "        post1['作者'] = r.find(class_='article-meta-value').text\n",
    "        \n",
    "        post1['時間'] = r.find_all(class_='article-meta-value')[-1].text\n",
    "#         print('hhkkkk', post1['時間'] ,post1['作者'], '\\n')\n",
    "        post1['時間'] = datetime.datetime.strptime(post1['時間'], \"%a %b %d %H:%M:%S %Y\")\n",
    "#         print('hh', post1)\n",
    "        posts1.append(post1)\n",
    "    except:\n",
    "        continue\n",
    "        \n",
    "posts1 = sorted(posts1, key= lambda x: x['時間'])\n",
    "posts1[-1]"
   ]
  },
  {
   "cell_type": "code",
   "execution_count": null,
   "metadata": {},
   "outputs": [],
   "source": []
  }
 ],
 "metadata": {
  "kernelspec": {
   "display_name": "Python 3",
   "language": "python",
   "name": "python3"
  },
  "language_info": {
   "codemirror_mode": {
    "name": "ipython",
    "version": 3
   },
   "file_extension": ".py",
   "mimetype": "text/x-python",
   "name": "python",
   "nbconvert_exporter": "python",
   "pygments_lexer": "ipython3",
   "version": "3.8.5"
  }
 },
 "nbformat": 4,
 "nbformat_minor": 2
}
